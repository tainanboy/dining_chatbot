{
 "cells": [
  {
   "cell_type": "code",
   "execution_count": 1,
   "metadata": {},
   "outputs": [],
   "source": [
    "# process csv files into JSON\n",
    "# for each restaurant (every row) in csv\n",
    "# { \"index\" : { \"_index\": \"restaurants\", \"_type\" : \"Restaurant\", \"_id\" : 1 } }\n",
    "# {\"Business_ID\": id, \"cuisine\": \"chinese\"}"
   ]
  },
  {
   "cell_type": "code",
   "execution_count": 2,
   "metadata": {},
   "outputs": [],
   "source": [
    "import csv\n",
    "import json"
   ]
  },
  {
   "cell_type": "code",
   "execution_count": 3,
   "metadata": {},
   "outputs": [],
   "source": [
    "elastic_id = 0\n",
    "count = 0\n",
    "# ['Business_ID', 'Name', 'Address', 'Coordinates', 'Num_of_Reviews', 'Rating', 'Zip_Code']\n",
    "with open('yelp_chinese.csv') as csvfile:\n",
    "    reader = csv.reader(csvfile)\n",
    "    for row in reader:\n",
    "        if count == 0:\n",
    "            pass\n",
    "        else:\n",
    "            head = {\"index\" : { \"_index\": \"restaurants\", \"_type\" : \"Restaurant\", \"_id\" : str(elastic_id)}}\n",
    "            data = {\"Business_ID\": str(row[0]), \"cuisine\": \"chinese\"}\n",
    "            elastic_id += 1\n",
    "            with open('restaurants.json', 'a') as outfile:  \n",
    "                json.dump(head, outfile)\n",
    "                outfile.write('\\n')\n",
    "                json.dump(data, outfile)\n",
    "                outfile.write('\\n')\n",
    "        count += 1"
   ]
  },
  {
   "cell_type": "code",
   "execution_count": 4,
   "metadata": {},
   "outputs": [],
   "source": [
    "count = 0\n",
    "# ['Business_ID', 'Name', 'Address', 'Coordinates', 'Num_of_Reviews', 'Rating', 'Zip_Code']\n",
    "with open('yelp_american.csv') as csvfile:\n",
    "    reader = csv.reader(csvfile)\n",
    "    for row in reader:\n",
    "        if count == 0:\n",
    "            pass\n",
    "        else:\n",
    "            head = {\"index\" : { \"_index\": \"restaurants\", \"_type\" : \"Restaurant\", \"_id\" : str(elastic_id)}}\n",
    "            data = {\"Business_ID\": str(row[0]), \"cuisine\": \"american\"}\n",
    "            elastic_id += 1\n",
    "            with open('restaurants.json', 'a') as outfile:  \n",
    "                json.dump(head, outfile)\n",
    "                outfile.write('\\n')\n",
    "                json.dump(data, outfile)\n",
    "                outfile.write('\\n')\n",
    "        count += 1"
   ]
  },
  {
   "cell_type": "code",
   "execution_count": 5,
   "metadata": {},
   "outputs": [],
   "source": [
    "count = 0\n",
    "# ['Business_ID', 'Name', 'Address', 'Coordinates', 'Num_of_Reviews', 'Rating', 'Zip_Code']\n",
    "with open('yelp_indian.csv') as csvfile:\n",
    "    reader = csv.reader(csvfile)\n",
    "    for row in reader:\n",
    "        if count == 0:\n",
    "            pass\n",
    "        else:\n",
    "            head = {\"index\" : { \"_index\": \"restaurants\", \"_type\" : \"Restaurant\", \"_id\" : str(elastic_id)}}\n",
    "            data = {\"Business_ID\": str(row[0]), \"cuisine\": \"indian\"}\n",
    "            elastic_id += 1\n",
    "            with open('restaurants.json', 'a') as outfile:  \n",
    "                json.dump(head, outfile)\n",
    "                outfile.write('\\n')\n",
    "                json.dump(data, outfile)\n",
    "                outfile.write('\\n')\n",
    "        count += 1"
   ]
  },
  {
   "cell_type": "code",
   "execution_count": 6,
   "metadata": {},
   "outputs": [],
   "source": [
    "count = 0\n",
    "# ['Business_ID', 'Name', 'Address', 'Coordinates', 'Num_of_Reviews', 'Rating', 'Zip_Code']\n",
    "with open('yelp_italian.csv') as csvfile:\n",
    "    reader = csv.reader(csvfile)\n",
    "    for row in reader:\n",
    "        if count == 0:\n",
    "            pass\n",
    "        else:\n",
    "            head = {\"index\" : { \"_index\": \"restaurants\", \"_type\" : \"Restaurant\", \"_id\" : str(elastic_id)}}\n",
    "            data = {\"Business_ID\": str(row[0]), \"cuisine\": \"italian\"}\n",
    "            elastic_id += 1\n",
    "            with open('restaurants.json', 'a') as outfile:  \n",
    "                json.dump(head, outfile)\n",
    "                outfile.write('\\n')\n",
    "                json.dump(data, outfile)\n",
    "                outfile.write('\\n')\n",
    "        count += 1"
   ]
  },
  {
   "cell_type": "code",
   "execution_count": 7,
   "metadata": {},
   "outputs": [],
   "source": [
    "count = 0\n",
    "# ['Business_ID', 'Name', 'Address', 'Coordinates', 'Num_of_Reviews', 'Rating', 'Zip_Code']\n",
    "with open('yelp_mexican.csv') as csvfile:\n",
    "    reader = csv.reader(csvfile)\n",
    "    for row in reader:\n",
    "        if count == 0:\n",
    "            pass\n",
    "        else:\n",
    "            head = {\"index\" : { \"_index\": \"restaurants\", \"_type\" : \"Restaurant\", \"_id\" : str(elastic_id)}}\n",
    "            data = {\"Business_ID\": str(row[0]), \"cuisine\": \"mexican\"}\n",
    "            elastic_id += 1\n",
    "            with open('restaurants.json', 'a') as outfile:  \n",
    "                json.dump(head, outfile)\n",
    "                outfile.write('\\n')\n",
    "                json.dump(data, outfile)\n",
    "                outfile.write('\\n')\n",
    "        count += 1"
   ]
  },
  {
   "cell_type": "code",
   "execution_count": null,
   "metadata": {},
   "outputs": [],
   "source": []
  }
 ],
 "metadata": {
  "kernelspec": {
   "display_name": "Python 3",
   "language": "python",
   "name": "python3"
  },
  "language_info": {
   "codemirror_mode": {
    "name": "ipython",
    "version": 2
   },
   "file_extension": ".py",
   "mimetype": "text/x-python",
   "name": "python",
   "nbconvert_exporter": "python",
   "pygments_lexer": "ipython2",
   "version": "2.7.14"
  }
 },
 "nbformat": 4,
 "nbformat_minor": 2
}
