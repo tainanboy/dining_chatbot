{
 "cells": [
  {
   "cell_type": "markdown",
   "metadata": {},
   "source": [
    "### Prepare data then insert into DynamoDB"
   ]
  },
  {
   "cell_type": "code",
   "execution_count": 1,
   "metadata": {},
   "outputs": [],
   "source": [
    "from __future__ import print_function # Python 2/3 compatibility\n",
    "import boto3\n",
    "import csv"
   ]
  },
  {
   "cell_type": "markdown",
   "metadata": {},
   "source": [
    "### Combine all cuisine types into one csv file, ensure Business_ID unique"
   ]
  },
  {
   "cell_type": "code",
   "execution_count": 2,
   "metadata": {},
   "outputs": [],
   "source": [
    "types = ['chinese', 'italian', 'indian','mexican','american','sushi']"
   ]
  },
  {
   "cell_type": "code",
   "execution_count": 3,
   "metadata": {},
   "outputs": [
    {
     "name": "stdout",
     "output_type": "stream",
     "text": [
      "chinese\n",
      "italian\n",
      "indian\n",
      "mexican\n",
      "american\n",
      "sushi\n"
     ]
    }
   ],
   "source": [
    "# combine all the file into FILE_0, ensure restaurant business_ids are unique\n",
    "business_id_set = set()\n",
    "line_count = 0\n",
    "for t in types:\n",
    "    print(t)\n",
    "    file_name = 'yelp_'+t+'.csv'\n",
    "    new_file = 'yelp.csv'\n",
    "    with open(file_name) as csv_file:\n",
    "        csv_reader = csv.reader(csv_file, delimiter=',')\n",
    "        with open(new_file,'a') as out:\n",
    "            csv_out = csv.writer(out)\n",
    "            for row in csv_reader:\n",
    "                # each row: ['Business_ID', 'Name', 'Address', 'Coordinates', 'Num_of_Reviews', 'Rating', 'Zip_Code', 'Cuisine']\n",
    "                if line_count == 0:\n",
    "                    csv_out.writerow(['Business_ID', 'Name', 'Address', 'Coordinates', 'Num_of_Reviews', 'Rating', 'Zip_Code', 'Cuisine'])\n",
    "                    line_count += 1\n",
    "                else:\n",
    "                    if row[0] and row[0] not in business_id_set:\n",
    "                        row.append(t)\n",
    "                        csv_out.writerow(row)\n",
    "                        business_id_set.add(row[0])\n",
    "                        line_count += 1\n",
    "                    else:\n",
    "                        pass"
   ]
  },
  {
   "cell_type": "markdown",
   "metadata": {},
   "source": [
    "### Connect to DynamoDB"
   ]
  },
  {
   "cell_type": "code",
   "execution_count": 4,
   "metadata": {},
   "outputs": [],
   "source": [
    "# Get the service resource.\n",
    "dynamodb = boto3.resource('dynamodb', region_name='us-east-1')\n",
    "# A low-level client representing Amazon DynamoDB\n",
    "client = boto3.client('dynamodb')"
   ]
  },
  {
   "cell_type": "code",
   "execution_count": 5,
   "metadata": {},
   "outputs": [],
   "source": [
    "table = dynamodb.create_table(\n",
    "    TableName='yelp-restaurant',\n",
    "    KeySchema=[\n",
    "        {\n",
    "            'AttributeName': 'Business_ID', #Partition key\n",
    "            'KeyType': 'HASH'\n",
    "        },\n",
    "        {\n",
    "            'AttributeName': 'insertedAtTimestamp', #sort key\n",
    "            'KeyType': 'RANGE'\n",
    "        }\n",
    "    ],\n",
    "    AttributeDefinitions=[\n",
    "        {\n",
    "            'AttributeName': 'Business_ID',\n",
    "            'AttributeType': 'S'\n",
    "        },\n",
    "        {\n",
    "            'AttributeName': 'insertedAtTimestamp',\n",
    "            'AttributeType': 'S'\n",
    "        },\n",
    "    ],\n",
    "    ProvisionedThroughput={\n",
    "        'ReadCapacityUnits': 5,\n",
    "        'WriteCapacityUnits': 5\n",
    "    }\n",
    ")"
   ]
  },
  {
   "cell_type": "code",
   "execution_count": 6,
   "metadata": {},
   "outputs": [],
   "source": [
    "# Wait until the table exists.\n",
    "table.meta.client.get_waiter('table_exists').wait(TableName='yelp-restaurant')"
   ]
  },
  {
   "cell_type": "code",
   "execution_count": 7,
   "metadata": {},
   "outputs": [
    {
     "name": "stdout",
     "output_type": "stream",
     "text": [
      "0\n"
     ]
    }
   ],
   "source": [
    "# Print out some data about the table.\n",
    "print(table.item_count)"
   ]
  },
  {
   "cell_type": "markdown",
   "metadata": {},
   "source": [
    "### insert data from csv"
   ]
  },
  {
   "cell_type": "code",
   "execution_count": 8,
   "metadata": {},
   "outputs": [],
   "source": [
    "import time"
   ]
  },
  {
   "cell_type": "code",
   "execution_count": 9,
   "metadata": {},
   "outputs": [
    {
     "name": "stdout",
     "output_type": "stream",
     "text": [
      "2019-04-05 15:47:35\n"
     ]
    }
   ],
   "source": [
    "print(time.strftime(\"%Y-%m-%d %H:%M:%S\", time.localtime()))"
   ]
  },
  {
   "cell_type": "code",
   "execution_count": 10,
   "metadata": {},
   "outputs": [
    {
     "name": "stdout",
     "output_type": "stream",
     "text": [
      "['DLRbxg74oWNPQJdbSkTDxQ', 'Suprema Provisions', '305 Bleecker St', \"{'latitude': 40.7326925, 'longitude': -74.0036155}\", '183', '3.5', '10014', 'italian']\n",
      "['ZrhOYpCBzHYxM6jPQLNerQ', 'Indian Xpres', '19 Corson Ave', \"{'latitude': 40.6383408, 'longitude': -74.0793587}\", '35', '3.5', '10301', 'indian']\n",
      "['NqnCmOlPIJ_QBQzvZ28djA', 'Sapthagiri Taste Of India', '804 Newark Ave', \"{'latitude': 40.73571680043, 'longitude': -74.0650333434929}\", '400', '3.5', '07306', 'indian']\n",
      "['5iKAeJ8RVrNGRUNy-355jQ', 'Deccan Spice', '771 Newark Ave', \"{'latitude': 40.73522, 'longitude': -74.06385}\", '343', '3.5', '07306', 'indian']\n",
      "['-PCQyh7uZPBamQYfpI8RBw', 'Dosa Hut', '777 Newark Ave', \"{'latitude': 40.7352599, 'longitude': -74.06407}\", '104', '3.0', '07306', 'indian']\n",
      "['HwDu45zV90Wmprn6sPttCQ', 'Mexican Festival', '2672 Broadway', \"{'latitude': 40.7982804740353, 'longitude': -73.9689128100872}\", '234', '3.0', '10025', 'mexican']\n",
      "['qmoA7CY8hhU4RIUGAfRYhg', 'Taqueria Huarache', '16 E Mt Eden Ave', \"{'latitude': 40.8440592106296, 'longitude': -73.9142958513615}\", '25', '4.0', '10452', 'mexican']\n",
      "['EhJO7B2hzHq8NT8iFKoCwg', 'Hot Jalape\\xc3\\xb1o', '219 E 116th St', \"{'latitude': 40.7976444478292, 'longitude': -73.9390864432851}\", '69', '3.5', '10029', 'mexican']\n",
      "['xltWwLEU-W0OHreJRW_jSA', 'Tacos Tijuana B.C', '5807 5th Ave', \"{'latitude': 40.64036, 'longitude': -74.01505}\", '30', '3.0', '11220', 'mexican']\n",
      "['4vvi0-0o0-v2WYBx3ZwAIQ', 'Taqueria Acatlan', '298 Irving Ave', \"{'latitude': 40.6989841, 'longitude': -73.9145874}\", '41', '3.0', '11237', 'mexican']\n",
      "['sGd1ZiC4bW8m6TxxyhM_Pw', 'Tacos El Picosito', '70 Broadway', \"{'latitude': 40.707008, 'longitude': -74.012266}\", '5', '3.5', '11379', 'mexican']\n",
      "['K9_vumaLO80LXgoPNJJvRQ', 'The Terrace at EDITION', '701 7th Ave', \"{'latitude': 40.75923, 'longitude': -73.9841}\", '3', '5.0', '10036', 'american']\n"
     ]
    }
   ],
   "source": [
    "with table.batch_writer() as batch:\n",
    "    with open('yelp.csv') as csvfile:\n",
    "        reader = csv.reader(csvfile)\n",
    "        #['Business_ID', 'Name', 'Address', 'Coordinates', 'Num_of_Reviews', 'Rating', 'Zip_Code', 'Cuisine']\n",
    "        for row in reader:\n",
    "            try:\n",
    "                batch.put_item(\n",
    "                Item={\n",
    "                    'insertedAtTimestamp': time.strftime(\"%Y-%m-%d %H:%M:%S\", time.localtime()),\n",
    "                    'cuisine': row[7],\n",
    "                    'Business_ID': row[0],\n",
    "                    'Name': row[1],\n",
    "                    'Address': row[2],\n",
    "                    'Coordinates': row[3],\n",
    "                    'Num_of_Reviews':row[4],\n",
    "                    'Rating':row[5],\n",
    "                    'Zip_Code':row[6]\n",
    "                })\n",
    "            except:\n",
    "                print(row)"
   ]
  },
  {
   "cell_type": "markdown",
   "metadata": {},
   "source": [
    "### Some querying and testing "
   ]
  },
  {
   "cell_type": "code",
   "execution_count": 34,
   "metadata": {},
   "outputs": [
    {
     "name": "stdout",
     "output_type": "stream",
     "text": [
      "2019-04-05 15:47:11.948000-04:00\n",
      "0\n"
     ]
    }
   ],
   "source": [
    "table = dynamodb.Table('yelp-restaurant')\n",
    "# Print out some data about the table.\n",
    "# This will cause a request to be made to DynamoDB and its attribute\n",
    "# values will be set based on the response.\n",
    "print(table.creation_date_time)\n",
    "print(table.item_count)"
   ]
  },
  {
   "cell_type": "code",
   "execution_count": 37,
   "metadata": {},
   "outputs": [
    {
     "name": "stdout",
     "output_type": "stream",
     "text": [
      "780\n"
     ]
    }
   ],
   "source": [
    "### query\n",
    "from boto3.dynamodb.conditions import Key, Attr\n",
    "\n",
    "response = table.scan(\n",
    "    FilterExpression=Attr('cuisine').lt('chinese')\n",
    ")\n",
    "items = response['Items']\n",
    "print(len(items))"
   ]
  },
  {
   "cell_type": "code",
   "execution_count": 42,
   "metadata": {},
   "outputs": [],
   "source": [
    "client = boto3.client('dynamodb')"
   ]
  },
  {
   "cell_type": "code",
   "execution_count": 43,
   "metadata": {},
   "outputs": [
    {
     "name": "stdout",
     "output_type": "stream",
     "text": [
      "{u'Table': {u'TableArn': u'arn:aws:dynamodb:us-east-1:403700260976:table/yelp-restaurant', u'AttributeDefinitions': [{u'AttributeName': u'Business_ID', u'AttributeType': u'S'}, {u'AttributeName': u'insertedAtTimestamp', u'AttributeType': u'S'}], u'ProvisionedThroughput': {u'NumberOfDecreasesToday': 0, u'WriteCapacityUnits': 5, u'ReadCapacityUnits': 5}, u'TableSizeBytes': 0, u'TableName': u'yelp-restaurant', u'TableStatus': u'ACTIVE', u'TableId': u'97b47bbb-ed1b-417a-900b-e08ffdb7a78c', u'KeySchema': [{u'KeyType': u'HASH', u'AttributeName': u'Business_ID'}, {u'KeyType': u'RANGE', u'AttributeName': u'insertedAtTimestamp'}], u'ItemCount': 0, u'CreationDateTime': datetime.datetime(2019, 4, 5, 15, 47, 11, 948000, tzinfo=tzlocal())}, 'ResponseMetadata': {'RetryAttempts': 0, 'HTTPStatusCode': 200, 'RequestId': 'UVBVR7T6B1R9NAQ2ONC18AO8N7VV4KQNSO5AEMVJF66Q9ASUAAJG', 'HTTPHeaders': {'x-amzn-requestid': 'UVBVR7T6B1R9NAQ2ONC18AO8N7VV4KQNSO5AEMVJF66Q9ASUAAJG', 'content-length': '613', 'server': 'Server', 'connection': 'keep-alive', 'x-amz-crc32': '4128221136', 'date': 'Fri, 05 Apr 2019 20:04:17 GMT', 'content-type': 'application/x-amz-json-1.0'}}}\n"
     ]
    }
   ],
   "source": [
    "table = client.describe_table(\n",
    "    TableName='yelp-restaurant'\n",
    ")\n",
    "print(table)"
   ]
  },
  {
   "cell_type": "code",
   "execution_count": null,
   "metadata": {},
   "outputs": [],
   "source": []
  }
 ],
 "metadata": {
  "kernelspec": {
   "display_name": "Python 3",
   "language": "python",
   "name": "python3"
  },
  "language_info": {
   "codemirror_mode": {
    "name": "ipython",
    "version": 2
   },
   "file_extension": ".py",
   "mimetype": "text/x-python",
   "name": "python",
   "nbconvert_exporter": "python",
   "pygments_lexer": "ipython2",
   "version": "2.7.14"
  }
 },
 "nbformat": 4,
 "nbformat_minor": 2
}
