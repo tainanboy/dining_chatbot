{
 "cells": [
  {
   "cell_type": "code",
   "execution_count": 1,
   "metadata": {},
   "outputs": [],
   "source": [
    "# process csv files into JSON\n",
    "# using JSON file to upload to ElasticSearch index: predictions \n",
    "# for each restaurant (every row) in csv\n",
    "# { \"index\" : { \"_index\": \"predictions\", \"_type\" : \"Prediction\", \"_id\" : 1 } }\n",
    "# {\"Business_ID\": id, \"cuisine\": \"chinese\", \"Score\": \"0.74\"}"
   ]
  },
  {
   "cell_type": "code",
   "execution_count": 2,
   "metadata": {},
   "outputs": [],
   "source": [
    "import csv\n",
    "import json"
   ]
  },
  {
   "cell_type": "code",
   "execution_count": 10,
   "metadata": {},
   "outputs": [],
   "source": [
    "elastic_id = 0\n",
    "count = 0\n",
    "# header: ['Business_ID', 'Cuisine', 'Rating', 'Num_of_Reviews', 'score', 'label']\n",
    "with open('../ML/FILE_3.csv') as csvfile:\n",
    "    reader = csv.reader(csvfile)\n",
    "    for row in reader:\n",
    "        if count == 0:\n",
    "            pass\n",
    "        else:\n",
    "            if row[5] == \"1.0\":\n",
    "                head = {\"index\" : { \"_index\": \"predictions\", \"_type\" : \"Prediction\", \"_id\" : str(elastic_id)}}\n",
    "                data = {\"Business_ID\": str(row[0]), \"Cuisine\": str(row[1]), \"Score\": \"{0:.2f}\".format(float(row[4]))}\n",
    "                elastic_id += 1\n",
    "                with open('predictions.json', 'a') as outfile:  \n",
    "                    json.dump(head, outfile)\n",
    "                    outfile.write('\\n')\n",
    "                    json.dump(data, outfile)\n",
    "                    outfile.write('\\n')\n",
    "        count += 1"
   ]
  },
  {
   "cell_type": "code",
   "execution_count": null,
   "metadata": {},
   "outputs": [],
   "source": []
  }
 ],
 "metadata": {
  "kernelspec": {
   "display_name": "Python 3",
   "language": "python",
   "name": "python3"
  },
  "language_info": {
   "codemirror_mode": {
    "name": "ipython",
    "version": 2
   },
   "file_extension": ".py",
   "mimetype": "text/x-python",
   "name": "python",
   "nbconvert_exporter": "python",
   "pygments_lexer": "ipython2",
   "version": "2.7.14"
  }
 },
 "nbformat": 4,
 "nbformat_minor": 2
}
