{
 "cells": [
  {
   "cell_type": "code",
   "execution_count": 1,
   "metadata": {},
   "outputs": [],
   "source": [
    "from __future__ import print_function # Python 2/3 compatibility\n",
    "import boto3\n",
    "import csv"
   ]
  },
  {
   "cell_type": "code",
   "execution_count": 14,
   "metadata": {},
   "outputs": [
    {
     "name": "stdout",
     "output_type": "stream",
     "text": [
      "['Business_ID', 'Name', 'Address', 'Coordinates', 'Num_of_Reviews', 'Rating', 'Zip_Code']\n",
      "951\n"
     ]
    }
   ],
   "source": [
    "with open('yelp_chinese.csv') as csvfile:\n",
    "    reader = csv.reader(csvfile)\n",
    "    line_count = 0\n",
    "    for row in reader:\n",
    "        if line_count == 0:\n",
    "            print(row)\n",
    "            line_count += 1\n",
    "        else:\n",
    "            line_count += 1\n",
    "    print(line_count)"
   ]
  },
  {
   "cell_type": "code",
   "execution_count": 16,
   "metadata": {},
   "outputs": [],
   "source": [
    "# Get the service resource.\n",
    "dynamodb = boto3.resource('dynamodb', region_name='us-east-1')\n",
    "# A low-level client representing Amazon DynamoDB\n",
    "client = boto3.client('dynamodb')"
   ]
  },
  {
   "cell_type": "code",
   "execution_count": 36,
   "metadata": {},
   "outputs": [],
   "source": [
    "table = dynamodb.create_table(\n",
    "    TableName='yelp-restaurant',\n",
    "    KeySchema=[\n",
    "        {\n",
    "            'AttributeName': 'Business_ID', #Partition key\n",
    "            'KeyType': 'HASH'\n",
    "        },\n",
    "        {\n",
    "            'AttributeName': 'insertedAtTimestamp', #sort key\n",
    "            'KeyType': 'RANGE'\n",
    "        }\n",
    "    ],\n",
    "    AttributeDefinitions=[\n",
    "        {\n",
    "            'AttributeName': 'Business_ID',\n",
    "            'AttributeType': 'S'\n",
    "        },\n",
    "        {\n",
    "            'AttributeName': 'insertedAtTimestamp',\n",
    "            'AttributeType': 'S'\n",
    "        },\n",
    "    ],\n",
    "    ProvisionedThroughput={\n",
    "        'ReadCapacityUnits': 5,\n",
    "        'WriteCapacityUnits': 5\n",
    "    }\n",
    ")"
   ]
  },
  {
   "cell_type": "code",
   "execution_count": 37,
   "metadata": {},
   "outputs": [],
   "source": [
    "# Wait until the table exists.\n",
    "table.meta.client.get_waiter('table_exists').wait(TableName='yelp-restaurant')"
   ]
  },
  {
   "cell_type": "code",
   "execution_count": 38,
   "metadata": {},
   "outputs": [
    {
     "name": "stdout",
     "output_type": "stream",
     "text": [
      "0\n"
     ]
    }
   ],
   "source": [
    "# Print out some data about the table.\n",
    "print(table.item_count)"
   ]
  },
  {
   "cell_type": "markdown",
   "metadata": {},
   "source": [
    "### put in chinese restaurant"
   ]
  },
  {
   "cell_type": "code",
   "execution_count": 39,
   "metadata": {},
   "outputs": [],
   "source": [
    "import time"
   ]
  },
  {
   "cell_type": "code",
   "execution_count": 40,
   "metadata": {},
   "outputs": [
    {
     "name": "stdout",
     "output_type": "stream",
     "text": [
      "2019-03-30 20:24:41\n"
     ]
    }
   ],
   "source": [
    "print(time.strftime(\"%Y-%m-%d %H:%M:%S\", time.localtime()))"
   ]
  },
  {
   "cell_type": "code",
   "execution_count": 41,
   "metadata": {},
   "outputs": [],
   "source": [
    "with table.batch_writer() as batch:\n",
    "    with open('yelp_chinese.csv') as csvfile:\n",
    "        reader = csv.reader(csvfile)\n",
    "        #['Business_ID', 'Name', 'Address', 'Coordinates', 'Num_of_Reviews', 'Rating', 'Zip_Code']\n",
    "        for row in reader:\n",
    "            batch.put_item(\n",
    "            Item={\n",
    "                'insertedAtTimestamp': time.strftime(\"%Y-%m-%d %H:%M:%S\", time.localtime()),\n",
    "                'cuisine':'chinese',\n",
    "                'Business_ID': row[0],\n",
    "                'Name': row[1],\n",
    "                'Address': row[2],\n",
    "                'Coordinates': row[3],\n",
    "                'Num_of_Reviews':row[4],\n",
    "                'Rating':row[5],\n",
    "                'Zip_Code':row[6]\n",
    "            }\n",
    "        )"
   ]
  },
  {
   "cell_type": "markdown",
   "metadata": {},
   "source": [
    "### italian"
   ]
  },
  {
   "cell_type": "code",
   "execution_count": 42,
   "metadata": {},
   "outputs": [
    {
     "name": "stdout",
     "output_type": "stream",
     "text": [
      "['faukkggAc_tuJ4THYlf4fg', 'La Masseria', '235 W 48th St', \"{'latitude': 40.760868632784, 'longitude': -73.986348802868}\", '547', '4', '10036']\n",
      "['rtivWWzG0XjUuhSrwusTgQ', 'Fausto', '348 Flatbush Ave', \"{'latitude': 40.67597, 'longitude': -73.97181}\", '123', '4', '11238']\n",
      "['3P8hb1ZOCA8IjEGfqpSpxg', 'Sfoglia Restaurant', '1402 Lexington Ave', \"{'latitude': 40.783535, 'longitude': -73.952719}\", '264', '4', '10128']\n",
      "['7rc7e_mw5DefMCSBsuZYhg', 'Don Giovanni Ristorante', '358 W 44th St', \"{'latitude': 40.75955, 'longitude': -73.9915}\", '416', '3.5', '10036']\n"
     ]
    }
   ],
   "source": [
    "with table.batch_writer() as batch:\n",
    "    with open('yelp_italian.csv') as csvfile:\n",
    "        reader = csv.reader(csvfile)\n",
    "        #['Business_ID', 'Name', 'Address', 'Coordinates', 'Num_of_Reviews', 'Rating', 'Zip_Code']\n",
    "        for row in reader:\n",
    "            try:\n",
    "                batch.put_item(\n",
    "                Item={\n",
    "                    'insertedAtTimestamp': time.strftime(\"%Y-%m-%d %H:%M:%S\", time.localtime()),\n",
    "                    'cuisine':'italian',\n",
    "                    'Business_ID': row[0],\n",
    "                    'Name': row[1],\n",
    "                    'Address': row[2],\n",
    "                    'Coordinates': row[3],\n",
    "                    'Num_of_Reviews':row[4],\n",
    "                    'Rating':row[5],\n",
    "                    'Zip_Code':row[6]\n",
    "                })\n",
    "            except:\n",
    "                print(row)"
   ]
  },
  {
   "cell_type": "markdown",
   "metadata": {},
   "source": [
    "### indian"
   ]
  },
  {
   "cell_type": "code",
   "execution_count": 43,
   "metadata": {},
   "outputs": [
    {
     "name": "stdout",
     "output_type": "stream",
     "text": [
      "['3hlAeWgSKAnSQ1tg8k8D8g', 'Alachi Masala', '488 Amsterdam Ave', \"{'latitude': 40.78616, 'longitude': -73.97635}\", '192', '4.0', '10024']\n",
      "['YMtQ5NZY3WUn3tetby6Uog', 'Taste of Persia', '12 W 18th St', \"{'latitude': 40.73891, 'longitude': -73.99298}\", '285', '4.5', '10011']\n",
      "['sUVRmTS3gwZtdDbjA5TPpA', 'Kebab & Curry In A Hurry', '2409 2nd Ave', \"{'latitude': 40.8019218, 'longitude': -73.9345703}\", '8', '2.0', '10035']\n",
      "['8AM1gGIk6KVb27Q9TYwD9Q', 'Green Symphony', '255 W 43rd St', \"{'latitude': 40.7575266, 'longitude': -73.9880669}\", '432', '4.0', '10036']\n"
     ]
    }
   ],
   "source": [
    "with table.batch_writer() as batch:\n",
    "    with open('yelp_indian.csv') as csvfile:\n",
    "        reader = csv.reader(csvfile)\n",
    "        #['Business_ID', 'Name', 'Address', 'Coordinates', 'Num_of_Reviews', 'Rating', 'Zip_Code']\n",
    "        for row in reader:\n",
    "            try:\n",
    "                batch.put_item(\n",
    "                Item={\n",
    "                    'insertedAtTimestamp': time.strftime(\"%Y-%m-%d %H:%M:%S\", time.localtime()),\n",
    "                    'cuisine':'indian',\n",
    "                    'Business_ID': row[0],\n",
    "                    'Name': row[1],\n",
    "                    'Address': row[2],\n",
    "                    'Coordinates': row[3],\n",
    "                    'Num_of_Reviews':row[4],\n",
    "                    'Rating':row[5],\n",
    "                    'Zip_Code':row[6]\n",
    "                })\n",
    "            except:\n",
    "                print(row)"
   ]
  },
  {
   "cell_type": "markdown",
   "metadata": {},
   "source": [
    "### mexican"
   ]
  },
  {
   "cell_type": "code",
   "execution_count": 44,
   "metadata": {},
   "outputs": [
    {
     "name": "stdout",
     "output_type": "stream",
     "text": [
      "['MRF4bNFPAyHe2rMS1yZobg', 'El Toro Mexican Grill', '69 New St', \"{'latitude': 40.7058516, 'longitude': -74.0122291}\", '103', '3.0', '10004']\n",
      "['AgAkUVLN_axMY-bzbNCfCw', 'Yuca Bar', '111 Avenue A', \"{'latitude': 40.7262, 'longitude': -73.9836}\", '1684', '4.0', '10009']\n",
      "['rpTW8Ozm8q8kN5RWOYSvFA', 'Oaxaca Taco De Revolucion', '5-29 46th Ave', \"{'latitude': 40.7475815, 'longitude': -73.9542618}\", '1', '4.0', '11101']\n",
      "['wVJHWi2QyewBOotVbwNGUg', 'Las Maravillas de Mexico Restaurant', '11 Bedford Park Blvd E', \"{'latitude': 40.87329, 'longitude': -73.88896}\", '44', '3.5', '10468']\n",
      "['qS15lSSIChNKBECO7uCi2g', 'Momento Restaurant', '25-13 Queens Plz N', \"{'latitude': 40.750941, 'longitude': -73.939311}\", '47', '3.0', '11101']\n",
      "['Nw7-C3L7Hq-PpGwdIt1VNA', 'Lupitas Restaurante', '2366 Grand Concourse', \"{'latitude': 40.85896, 'longitude': -73.89855}\", '3', '4.5', '10458']\n",
      "['tfJ7mBlkTSZQoQ3F7KaGpg', 'Taquiera El Paisa II', '324 Suydam St', \"{'latitude': 40.7033081, 'longitude': -73.9222031}\", '2', '4.0', '11237']\n"
     ]
    }
   ],
   "source": [
    "with table.batch_writer() as batch:\n",
    "    with open('yelp_mexican.csv') as csvfile:\n",
    "        reader = csv.reader(csvfile)\n",
    "        #['Business_ID', 'Name', 'Address', 'Coordinates', 'Num_of_Reviews', 'Rating', 'Zip_Code']\n",
    "        for row in reader:\n",
    "            try:\n",
    "                batch.put_item(\n",
    "                Item={\n",
    "                    'insertedAtTimestamp': time.strftime(\"%Y-%m-%d %H:%M:%S\", time.localtime()),\n",
    "                    'cuisine':'mexican',\n",
    "                    'Business_ID': row[0],\n",
    "                    'Name': row[1],\n",
    "                    'Address': row[2],\n",
    "                    'Coordinates': row[3],\n",
    "                    'Num_of_Reviews':row[4],\n",
    "                    'Rating':row[5],\n",
    "                    'Zip_Code':row[6]\n",
    "                })\n",
    "            except:\n",
    "                print(row)"
   ]
  },
  {
   "cell_type": "markdown",
   "metadata": {},
   "source": [
    "### american"
   ]
  },
  {
   "cell_type": "code",
   "execution_count": 45,
   "metadata": {},
   "outputs": [],
   "source": [
    "with table.batch_writer() as batch:\n",
    "    with open('yelp_american.csv') as csvfile:\n",
    "        reader = csv.reader(csvfile)\n",
    "        #['Business_ID', 'Name', 'Address', 'Coordinates', 'Num_of_Reviews', 'Rating', 'Zip_Code']\n",
    "        for row in reader:\n",
    "            try:\n",
    "                batch.put_item(\n",
    "                Item={\n",
    "                    'insertedAtTimestamp': time.strftime(\"%Y-%m-%d %H:%M:%S\", time.localtime()),\n",
    "                    'cuisine':'american',\n",
    "                    'Business_ID': row[0],\n",
    "                    'Name': row[1],\n",
    "                    'Address': row[2],\n",
    "                    'Coordinates': row[3],\n",
    "                    'Num_of_Reviews':row[4],\n",
    "                    'Rating':row[5],\n",
    "                    'Zip_Code':row[6]\n",
    "                })\n",
    "            except:\n",
    "                print(row)"
   ]
  },
  {
   "cell_type": "code",
   "execution_count": null,
   "metadata": {},
   "outputs": [],
   "source": []
  },
  {
   "cell_type": "code",
   "execution_count": 52,
   "metadata": {},
   "outputs": [
    {
     "name": "stdout",
     "output_type": "stream",
     "text": [
      "2019-03-30 20:24:17.988000-04:00\n"
     ]
    }
   ],
   "source": [
    "table = dynamodb.Table('yelp-restaurant')\n",
    "\n",
    "# Print out some data about the table.\n",
    "# This will cause a request to be made to DynamoDB and its attribute\n",
    "# values will be set based on the response.\n",
    "print(table.creation_date_time)"
   ]
  },
  {
   "cell_type": "code",
   "execution_count": 47,
   "metadata": {},
   "outputs": [
    {
     "name": "stdout",
     "output_type": "stream",
     "text": [
      "0\n"
     ]
    }
   ],
   "source": [
    "print(table.item_count)"
   ]
  },
  {
   "cell_type": "code",
   "execution_count": 48,
   "metadata": {},
   "outputs": [],
   "source": [
    "client = boto3.client('dynamodb')"
   ]
  },
  {
   "cell_type": "code",
   "execution_count": 50,
   "metadata": {},
   "outputs": [
    {
     "name": "stdout",
     "output_type": "stream",
     "text": [
      "{u'Table': {u'TableArn': u'arn:aws:dynamodb:us-east-1:403700260976:table/yelp-restaurant', u'AttributeDefinitions': [{u'AttributeName': u'Business_ID', u'AttributeType': u'S'}, {u'AttributeName': u'insertedAtTimestamp', u'AttributeType': u'S'}], u'ProvisionedThroughput': {u'NumberOfDecreasesToday': 0, u'WriteCapacityUnits': 5, u'ReadCapacityUnits': 5}, u'TableSizeBytes': 0, u'TableName': u'yelp-restaurant', u'TableStatus': u'ACTIVE', u'TableId': u'b9d561a3-fea9-471f-bcd0-72e8d916cc53', u'KeySchema': [{u'KeyType': u'HASH', u'AttributeName': u'Business_ID'}, {u'KeyType': u'RANGE', u'AttributeName': u'insertedAtTimestamp'}], u'ItemCount': 0, u'CreationDateTime': datetime.datetime(2019, 3, 30, 20, 24, 17, 988000, tzinfo=tzlocal())}, 'ResponseMetadata': {'RetryAttempts': 0, 'HTTPStatusCode': 200, 'RequestId': '88P52JVH73QQ4KNOB2T58Q1BDVVV4KQNSO5AEMVJF66Q9ASUAAJG', 'HTTPHeaders': {'x-amzn-requestid': '88P52JVH73QQ4KNOB2T58Q1BDVVV4KQNSO5AEMVJF66Q9ASUAAJG', 'content-length': '613', 'server': 'Server', 'connection': 'keep-alive', 'x-amz-crc32': '4165867099', 'date': 'Sun, 31 Mar 2019 00:33:16 GMT', 'content-type': 'application/x-amz-json-1.0'}}}\n"
     ]
    }
   ],
   "source": [
    "table = client.describe_table(\n",
    "    TableName='yelp-restaurant'\n",
    ")\n",
    "print(table)"
   ]
  },
  {
   "cell_type": "code",
   "execution_count": 54,
   "metadata": {},
   "outputs": [
    {
     "name": "stdout",
     "output_type": "stream",
     "text": [
      "951\n"
     ]
    }
   ],
   "source": [
    "### query\n",
    "from boto3.dynamodb.conditions import Key, Attr\n",
    "\n",
    "response = table.scan(\n",
    "    FilterExpression=Attr('cuisine').lt('chinese')\n",
    ")\n",
    "items = response['Items']\n",
    "print(len(items))"
   ]
  },
  {
   "cell_type": "code",
   "execution_count": null,
   "metadata": {},
   "outputs": [],
   "source": []
  }
 ],
 "metadata": {
  "kernelspec": {
   "display_name": "Python 3",
   "language": "python",
   "name": "python3"
  },
  "language_info": {
   "codemirror_mode": {
    "name": "ipython",
    "version": 2
   },
   "file_extension": ".py",
   "mimetype": "text/x-python",
   "name": "python",
   "nbconvert_exporter": "python",
   "pygments_lexer": "ipython2",
   "version": "2.7.14"
  }
 },
 "nbformat": 4,
 "nbformat_minor": 2
}
